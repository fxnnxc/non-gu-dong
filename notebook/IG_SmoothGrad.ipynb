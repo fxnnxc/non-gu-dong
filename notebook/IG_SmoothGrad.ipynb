{
 "cells": [
  {
   "cell_type": "code",
   "execution_count": 1,
   "metadata": {},
   "outputs": [
    {
     "name": "stderr",
     "output_type": "stream",
     "text": [
      "/home/bumjin/anaconda3/envs/deeping/lib/python3.8/site-packages/tqdm/auto.py:22: TqdmWarning: IProgress not found. Please update jupyter and ipywidgets. See https://ipywidgets.readthedocs.io/en/stable/user_install.html\n",
      "  from .autonotebook import tqdm as notebook_tqdm\n"
     ]
    },
    {
     "name": "stdout",
     "output_type": "stream",
     "text": [
      "[+] Get the MNIST DATA\n",
      "[+] Finished loading data & Preprocessing\n"
     ]
    }
   ],
   "source": [
    "import torch \n",
    "import torch.nn as nn\n",
    "import torchvision.datasets as vision_dsets\n",
    "from torch.utils import data\n",
    "import torchvision.transforms as T # Transformation functions to manipulate images\n",
    "\n",
    "\n",
    "def get_mnist_dataloader(root='untracked',train =True,transforms=T.ToTensor() ,download =True,batch_size = 32,num_worker = 1):\n",
    "    print (\"[+] Get the MNIST DATA\")\n",
    "    \"\"\"\n",
    "    We will use Mnist data for our tutorial \n",
    "    \"\"\"\n",
    "    mnist_train = vision_dsets.MNIST(root = root,  #root is the place to store your data. \n",
    "                                    train = True,  \n",
    "                                    transform = transforms,\n",
    "                                    download=download)\n",
    "    mnist_test = vision_dsets.MNIST(root = root,\n",
    "                                    train = False, \n",
    "                                    transform = transforms,\n",
    "                                    download=download)\n",
    "    \"\"\"\n",
    "    Data Loader is a iterator that fetches the data with the number of desired batch size. \n",
    "    * Practical Guide : What is the optimal batch size? \n",
    "      - Usually.., higher the batter. \n",
    "      - We recommend to use it as a multiple of 2 to efficiently utilize the gpu memory. (related to bit size)\n",
    "    \"\"\"\n",
    "    trainDataLoader = data.DataLoader(dataset = mnist_train,  # information about your data type\n",
    "                                      batch_size = batch_size, # batch size\n",
    "                                      shuffle =True, # Whether to shuffle your data for every epoch. (Very important for training performance)\n",
    "                                      num_workers = 1) # number of workers to load your data. (usually number of cpu cores)\n",
    "\n",
    "    testDataLoader = data.DataLoader(dataset = mnist_test, \n",
    "                                    batch_size = batch_size,\n",
    "                                    shuffle = False, # we don't actually need to shuffle data for test\n",
    "                                    num_workers = 1) #\n",
    "    print (\"[+] Finished loading data & Preprocessing\")\n",
    "    return trainDataLoader,testDataLoader\n",
    "\n",
    "trainDataLoader, testDataLoader = get_mnist_dataloader(transforms=T.Compose([T.ToTensor(), ]))"
   ]
  },
  {
   "cell_type": "code",
   "execution_count": 2,
   "metadata": {},
   "outputs": [],
   "source": [
    "import torch \n",
    "import torch.nn as nn\n",
    "\n",
    "class Model(nn.Module):\n",
    "    def __init__(self, model=\"linear\"):\n",
    "        super().__init__()\n",
    "        self.model_type = model\n",
    "        if model ==\"linear\":\n",
    "            self.linear1 = nn.Linear(784, 128)\n",
    "            self.linear2 = nn.Linear(128, 10)\n",
    "        elif model == \"cnn\":\n",
    "            self.conv1 = nn.Conv2d(in_channels= 1, out_channels=32, kernel_size=3, stride=1)\t\n",
    "            self.conv2 = nn.Conv2d(in_channels=32, out_channels=28, kernel_size=3, stride=2)\n",
    "            self.fc1 = nn.Linear(in_features=4032, out_features=512)\n",
    "            self.fc2 = nn.Linear(in_features=512, out_features=10)\n",
    "            \n",
    "    def forward(self, x):\n",
    "        batch_size = x.size(0)\n",
    "\n",
    "        if self.model_type == \"linear\":\n",
    "            x = x.view(batch_size, -1)\n",
    "            x = self.linear1(x)\n",
    "            x = nn.functional.relu(x)\n",
    "            x = self.linear2(x) \n",
    "        else:\n",
    "\n",
    "            x = nn.functional.relu(self.conv1(x))\n",
    "            x = nn.functional.relu(self.conv2(x))\n",
    "            x = x.contiguous().view(batch_size, -1)\n",
    "            x = self.fc1(x)\n",
    "            x = nn.functional.relu(x)\n",
    "            x = self.fc2(x)\n",
    "        return x \n",
    "\n"
   ]
  },
  {
   "cell_type": "code",
   "execution_count": 3,
   "metadata": {},
   "outputs": [],
   "source": [
    "linear_model = Model(model=\"linear\").cuda()\n",
    "cnn_model = Model(model=\"cnn\").cuda()\n",
    "\n",
    "# Todo : Cuda "
   ]
  },
  {
   "cell_type": "code",
   "execution_count": 4,
   "metadata": {},
   "outputs": [
    {
     "name": "stdout",
     "output_type": "stream",
     "text": [
      "--- Training Started with model ---\n",
      "Model(\n",
      "  (linear1): Linear(in_features=784, out_features=128, bias=True)\n",
      "  (linear2): Linear(in_features=128, out_features=10, bias=True)\n",
      ")\n",
      "[1,   500] loss: 1.713\n",
      "[1,  1000] loss: 0.762\n",
      "[1,  1500] loss: 0.526\n",
      "[2,   500] loss: 0.406\n",
      "[2,  1000] loss: 0.380\n",
      "[2,  1500] loss: 0.359\n",
      "--- Training Started with model ---\n",
      "Model(\n",
      "  (conv1): Conv2d(1, 32, kernel_size=(3, 3), stride=(1, 1))\n",
      "  (conv2): Conv2d(32, 28, kernel_size=(3, 3), stride=(2, 2))\n",
      "  (fc1): Linear(in_features=4032, out_features=512, bias=True)\n",
      "  (fc2): Linear(in_features=512, out_features=10, bias=True)\n",
      ")\n",
      "[1,   500] loss: 1.267\n",
      "[1,  1000] loss: 0.340\n",
      "[1,  1500] loss: 0.261\n",
      "[2,   500] loss: 0.182\n",
      "[2,  1000] loss: 0.149\n",
      "[2,  1500] loss: 0.142\n"
     ]
    }
   ],
   "source": [
    "import torch.optim as optim\n",
    "from torch.autograd import Variable\n",
    "\n",
    "\n",
    "def train(net, train_loader, optimizer, criterion,  epoch=2):\n",
    "    net.train()\n",
    "    for e in range(epoch):\n",
    "        running_loss = 0.0  \n",
    "        for i, data in enumerate(train_loader, 0): \n",
    "            # get the inputs\n",
    "            inputs, labels = data # Return type for data in dataloader is tuple of (input_data, labels)\n",
    "            inputs = Variable(inputs).cuda()\n",
    "            labels = Variable(labels).cuda()\n",
    "            # zero the parameter gradients\n",
    "            optimizer.zero_grad()    \n",
    "\n",
    "            # forward + backward + optimize\n",
    "            outputs = net(inputs) # get output after passing through the network\n",
    "            loss = criterion(outputs, labels) # compute model's score using the loss function \n",
    "            loss.backward() # perform back-propagation from the loss\n",
    "            optimizer.step() # perform gradient descent with given optimizer\n",
    "\n",
    "            # print statistics\n",
    "            running_loss += loss.item()\n",
    "            if (i+1) % 500 == 0:    # print every 2000 mini-batches\n",
    "                print('[%d, %5d] loss: %.3f' % (e + 1, i + 1, running_loss / 500))\n",
    "                running_loss = 0.0\n",
    "\n",
    "criterion = nn.CrossEntropyLoss() \n",
    "models = [linear_model, cnn_model]\n",
    "optimizers  = [torch.optim.SGD(linear_model.parameters(), lr=0.001, momentum=0.9), \n",
    "                torch.optim.SGD(cnn_model.parameters(), lr=0.001, momentum=0.9)]\n",
    "\n",
    "\n",
    "for model, opti, in zip(models, optimizers):\n",
    "    print(\"--- Training Started with model ---\")\n",
    "    print(model)\n",
    "    train(model, trainDataLoader, opti, criterion, 2)\n"
   ]
  },
  {
   "cell_type": "code",
   "execution_count": 88,
   "metadata": {},
   "outputs": [
    {
     "name": "stdout",
     "output_type": "stream",
     "text": [
      "torch.Size([1, 28, 28]) torch.Size([1, 28, 28])\n",
      "torch.Size([10, 1, 28, 28])\n",
      "torch.Size([10, 1, 28, 28])\n"
     ]
    }
   ],
   "source": [
    "x = trainDataLoader.dataset[0][0].clone().cuda()\n",
    "y = Variable(torch.tensor(trainDataLoader.dataset[0][1])).cuda()\n",
    "x_baseline = torch.zeros_like(x).cuda()\n",
    "\n",
    "def make_interpolation(x, base, M):\n",
    "    lst = [] \n",
    "    for i in range(M):\n",
    "        alpha = i/M\n",
    "        interpolated =x * (alpha) + base * (1-alpha)\n",
    "        lst.append(interpolated.clone())\n",
    "    return torch.stack(lst)\n",
    "\n",
    "X = make_interpolation(x, x_baseline, 10)\n",
    "X = Variable(X, requires_grad=True)\n",
    "X.retain_grad()\n",
    "\n",
    "y = torch.stack([y for i in range(len(X))]).cuda()\n",
    "\n",
    "\n",
    "print(x.size(), x_baseline.size())\n",
    "print(X.size())\n",
    "\n",
    "output = models[1].forward(X)\n",
    "loss = criterion(output, y)\n",
    "loss.backward()\n",
    "\n",
    "gradient = X.grad\n",
    "print(gradient.size())\n",
    "\n",
    "IG = (x-x_baseline) * gradient.sum(axis=0)"
   ]
  },
  {
   "cell_type": "code",
   "execution_count": 172,
   "metadata": {},
   "outputs": [
    {
     "data": {
      "image/png": "[encoded data removed]",
      "text/plain": [
       "<Figure size 1440x720 with 10 Axes>"
      ]
     },
     "metadata": {
      "needs_background": "light"
     },
     "output_type": "display_data"
    }
   ],
   "source": [
    "import matplotlib.pyplot as plt \n",
    "fig, ax = plt.subplots(1,len(X), figsize=(20,10))\n",
    "for j, img in enumerate(X):\n",
    "    ax[j].imshow(img.detach().cpu().permute(1,2,0).numpy(), cmap='binary')\n",
    "    ax[j].set_title(f\"alpha : {j/len(X)} \\n sum : \" + str(int(img.sum().item())))"
   ]
  },
  {
   "cell_type": "code",
   "execution_count": 168,
   "metadata": {},
   "outputs": [
    {
     "data": {
      "image/png": "[encoded data removed]",
      "text/plain": [
       "<Figure size 720x720 with 3 Axes>"
      ]
     },
     "metadata": {
      "needs_background": "light"
     },
     "output_type": "display_data"
    }
   ],
   "source": [
    "from mpl_toolkits.axes_grid1 import make_axes_locatable\n",
    "\n",
    "fig, ax = plt.subplots(1, 3, constrained_layout=True, figsize=(10,10))\n",
    "ax[1].imshow(x.detach().cpu().permute(1,2,0), cmap='binary')\n",
    "ax[2].imshow(IG.cpu().permute(1,2,0), alpha=0.5, cmap='hot')\n",
    "ax[0].imshow(x.detach().cpu().permute(1,2,0), cmap='binary')\n",
    "pcm = ax[0].pcolormesh(IG.cpu().squeeze(0), alpha=0.5, cmap='hot')\n",
    "\n",
    "cax = ax[2].inset_axes([1.05, 0.0, 0.2, 1.0], transform=ax[2].transAxes)\n",
    "fig.colorbar(pcm, ax=ax[2], cax=cax)\n",
    "\n",
    "ax[0].set_title(\"overlay\")\n",
    "ax[1].set_title(\"original\")\n",
    "ax[2].set_title(\"IG\")\n",
    "plt.show()"
   ]
  },
  {
   "cell_type": "code",
   "execution_count": null,
   "metadata": {},
   "outputs": [],
   "source": [
    "\n"
   ]
  }
 ],
 "metadata": {
  "interpreter": {
   "hash": "728ed223cfa85ea1ef5dcc6c79a939ffd9902707d91f95b40f547e46903ca84f"
  },
  "kernelspec": {
   "display_name": "Python 3.9.7 ('base')",
   "language": "python",
   "name": "python3"
  },
  "language_info": {
   "codemirror_mode": {
    "name": "ipython",
    "version": 3
   },
   "file_extension": ".py",
   "mimetype": "text/x-python",
   "name": "python",
   "nbconvert_exporter": "python",
   "pygments_lexer": "ipython3",
   "version": "3.8.12"
  },
  "orig_nbformat": 4
 },
 "nbformat": 4,
 "nbformat_minor": 2
}
